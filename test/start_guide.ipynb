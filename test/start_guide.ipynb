{
 "cells": [
  {
   "cell_type": "markdown",
   "metadata": {},
   "source": [
    "# mir-aio package guide"
   ]
  },
  {
   "cell_type": "markdown",
   "metadata": {},
   "source": [
    "Hello! Welcome to the journey of MIR with python. \n",
    "\n",
    "This docker image includes most of the packages that I found helpful for different MIR tasks.\n",
    "\n",
    "You can process all kinds of data: audio, MIDI, MusicXML, abc...\n",
    "\n",
    "With all different ML/DL tools: pytorch, tensorflow, scikit-learn...\n",
    "\n",
    "And use many useful MIR toolkits for: prepare datasets, data augmentation, training, evaluation..\n"
   ]
  },
  {
   "cell_type": "markdown",
   "metadata": {},
   "source": [
    "## Check GPU status"
   ]
  },
  {
   "cell_type": "code",
   "execution_count": 1,
   "metadata": {},
   "outputs": [
    {
     "name": "stdout",
     "output_type": "stream",
     "text": [
      "Thu Oct 22 02:07:51 2020       \n",
      "+-----------------------------------------------------------------------------+\n",
      "| NVIDIA-SMI 440.100      Driver Version: 440.100      CUDA Version: 10.2     |\n",
      "|-------------------------------+----------------------+----------------------+\n",
      "| GPU  Name        Persistence-M| Bus-Id        Disp.A | Volatile Uncorr. ECC |\n",
      "| Fan  Temp  Perf  Pwr:Usage/Cap|         Memory-Usage | GPU-Util  Compute M. |\n",
      "|===============================+======================+======================|\n",
      "|   0  GeForce RTX 206...  Off  | 00000000:07:00.0 Off |                  N/A |\n",
      "|  0%   41C    P8    18W / 175W |    261MiB /  7981MiB |      5%      Default |\n",
      "+-------------------------------+----------------------+----------------------+\n",
      "                                                                               \n",
      "+-----------------------------------------------------------------------------+\n",
      "| Processes:                                                       GPU Memory |\n",
      "|  GPU       PID   Type   Process name                             Usage      |\n",
      "|=============================================================================|\n",
      "+-----------------------------------------------------------------------------+\n"
     ]
    }
   ],
   "source": [
    "!nvidia-smi"
   ]
  },
  {
   "cell_type": "code",
   "execution_count": 2,
   "metadata": {},
   "outputs": [
    {
     "name": "stdout",
     "output_type": "stream",
     "text": [
      "Python VERSION:  3.7.8 | packaged by conda-forge | (default, Jul 31 2020, 02:25:08) \n",
      "[GCC 7.5.0]\n",
      "pyTorch VERSION:  1.4.0\n",
      "CUDNN VERSION:  7603\n",
      "Number of CUDA Devices:  1\n",
      "Devices:  ['GeForce RTX 2060 SUPER']\n",
      "Current cuda device:  GeForce RTX 2060 SUPER\n"
     ]
    }
   ],
   "source": [
    "import torch\n",
    "import sys\n",
    "\n",
    "print('Python VERSION: ', sys.version)\n",
    "print('pyTorch VERSION: ', torch.__version__)\n",
    "print('CUDNN VERSION: ', torch.backends.cudnn.version())\n",
    "print('Number of CUDA Devices: ', torch.cuda.device_count())\n",
    "print('Devices: ', [torch.cuda.get_device_name(i) for i in range(torch.cuda.device_count())])\n",
    "print ('Current cuda device: ', torch.cuda.get_device_name(torch.cuda.current_device()))"
   ]
  },
  {
   "cell_type": "code",
   "execution_count": 3,
   "metadata": {},
   "outputs": [
    {
     "name": "stdout",
     "output_type": "stream",
     "text": [
      "Tensorflow VERSION:  2.3.1\n",
      "GPU devices:  [PhysicalDevice(name='/physical_device:GPU:0', device_type='GPU')]\n",
      "Built with CUDA:  True\n",
      "GPU support:  True\n"
     ]
    }
   ],
   "source": [
    "import tensorflow as tf\n",
    "\n",
    "print(\"Tensorflow VERSION: \", tf.__version__)\n",
    "print(\"GPU devices: \", tf.config.list_physical_devices('GPU'))\n",
    "print(\"Built with CUDA: \", tf.test.is_built_with_cuda())\n",
    "print(\"GPU support: \", tf.test.is_built_with_gpu_support())"
   ]
  },
  {
   "cell_type": "code",
   "execution_count": null,
   "metadata": {},
   "outputs": [],
   "source": []
  }
 ],
 "metadata": {
  "kernelspec": {
   "display_name": "Python 3",
   "language": "python",
   "name": "python3"
  },
  "language_info": {
   "codemirror_mode": {
    "name": "ipython",
    "version": 3
   },
   "file_extension": ".py",
   "mimetype": "text/x-python",
   "name": "python",
   "nbconvert_exporter": "python",
   "pygments_lexer": "ipython3",
   "version": "3.7.8"
  }
 },
 "nbformat": 4,
 "nbformat_minor": 4
}
